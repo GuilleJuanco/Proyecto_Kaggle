{
 "cells": [
  {
   "cell_type": "code",
   "execution_count": 341,
   "metadata": {},
   "outputs": [],
   "source": [
    "#Importar librerías\n",
    "\n",
    "import warnings\n",
    "warnings.filterwarnings('ignore')\n",
    "\n",
    "import regex as re\n",
    "\n",
    "import pandas as pd\n",
    "import numpy as np\n",
    "\n",
    "import pylab as plt\n",
    "import seaborn as sns\n",
    "\n",
    "%matplotlib inline"
   ]
  },
  {
   "cell_type": "code",
   "execution_count": 342,
   "metadata": {},
   "outputs": [],
   "source": [
    "#Importa csv\n",
    "df=pd.read_csv('data/train.csv')"
   ]
  },
  {
   "cell_type": "code",
   "execution_count": 343,
   "metadata": {},
   "outputs": [
    {
     "data": {
      "text/html": [
       "<div>\n",
       "<style scoped>\n",
       "    .dataframe tbody tr th:only-of-type {\n",
       "        vertical-align: middle;\n",
       "    }\n",
       "\n",
       "    .dataframe tbody tr th {\n",
       "        vertical-align: top;\n",
       "    }\n",
       "\n",
       "    .dataframe thead th {\n",
       "        text-align: right;\n",
       "    }\n",
       "</style>\n",
       "<table border=\"1\" class=\"dataframe\">\n",
       "  <thead>\n",
       "    <tr style=\"text-align: right;\">\n",
       "      <th></th>\n",
       "      <th>Manufacturer</th>\n",
       "      <th>Model Name</th>\n",
       "      <th>Category</th>\n",
       "      <th>Screen Size</th>\n",
       "      <th>Screen</th>\n",
       "      <th>CPU</th>\n",
       "      <th>RAM</th>\n",
       "      <th>Storage</th>\n",
       "      <th>GPU</th>\n",
       "      <th>Operating System</th>\n",
       "      <th>Operating System Version</th>\n",
       "      <th>Weight</th>\n",
       "      <th>Price</th>\n",
       "    </tr>\n",
       "  </thead>\n",
       "  <tbody>\n",
       "    <tr>\n",
       "      <th>0</th>\n",
       "      <td>Apple</td>\n",
       "      <td>MacBook Pro</td>\n",
       "      <td>Ultrabook</td>\n",
       "      <td>13.3\"</td>\n",
       "      <td>IPS Panel Retina Display 2560x1600</td>\n",
       "      <td>Intel Core i5 2.3GHz</td>\n",
       "      <td>8GB</td>\n",
       "      <td>128GB SSD</td>\n",
       "      <td>Intel Iris Plus Graphics 640</td>\n",
       "      <td>macOS</td>\n",
       "      <td>NaN</td>\n",
       "      <td>1.37kg</td>\n",
       "      <td>11912523.48</td>\n",
       "    </tr>\n",
       "    <tr>\n",
       "      <th>1</th>\n",
       "      <td>Apple</td>\n",
       "      <td>Macbook Air</td>\n",
       "      <td>Ultrabook</td>\n",
       "      <td>13.3\"</td>\n",
       "      <td>1440x900</td>\n",
       "      <td>Intel Core i5 1.8GHz</td>\n",
       "      <td>8GB</td>\n",
       "      <td>128GB Flash Storage</td>\n",
       "      <td>Intel HD Graphics 6000</td>\n",
       "      <td>macOS</td>\n",
       "      <td>NaN</td>\n",
       "      <td>1.34kg</td>\n",
       "      <td>7993374.48</td>\n",
       "    </tr>\n",
       "    <tr>\n",
       "      <th>2</th>\n",
       "      <td>HP</td>\n",
       "      <td>250 G6</td>\n",
       "      <td>Notebook</td>\n",
       "      <td>15.6\"</td>\n",
       "      <td>Full HD 1920x1080</td>\n",
       "      <td>Intel Core i5 7200U 2.5GHz</td>\n",
       "      <td>8GB</td>\n",
       "      <td>256GB SSD</td>\n",
       "      <td>Intel HD Graphics 620</td>\n",
       "      <td>No OS</td>\n",
       "      <td>NaN</td>\n",
       "      <td>1.86kg</td>\n",
       "      <td>5112900.00</td>\n",
       "    </tr>\n",
       "    <tr>\n",
       "      <th>3</th>\n",
       "      <td>Apple</td>\n",
       "      <td>MacBook Pro</td>\n",
       "      <td>Ultrabook</td>\n",
       "      <td>15.4\"</td>\n",
       "      <td>IPS Panel Retina Display 2880x1800</td>\n",
       "      <td>Intel Core i7 2.7GHz</td>\n",
       "      <td>16GB</td>\n",
       "      <td>512GB SSD</td>\n",
       "      <td>AMD Radeon Pro 455</td>\n",
       "      <td>macOS</td>\n",
       "      <td>NaN</td>\n",
       "      <td>1.83kg</td>\n",
       "      <td>22563005.40</td>\n",
       "    </tr>\n",
       "    <tr>\n",
       "      <th>4</th>\n",
       "      <td>Apple</td>\n",
       "      <td>MacBook Pro</td>\n",
       "      <td>Ultrabook</td>\n",
       "      <td>13.3\"</td>\n",
       "      <td>IPS Panel Retina Display 2560x1600</td>\n",
       "      <td>Intel Core i5 3.1GHz</td>\n",
       "      <td>8GB</td>\n",
       "      <td>256GB SSD</td>\n",
       "      <td>Intel Iris Plus Graphics 650</td>\n",
       "      <td>macOS</td>\n",
       "      <td>NaN</td>\n",
       "      <td>1.37kg</td>\n",
       "      <td>16037611.20</td>\n",
       "    </tr>\n",
       "    <tr>\n",
       "      <th>...</th>\n",
       "      <td>...</td>\n",
       "      <td>...</td>\n",
       "      <td>...</td>\n",
       "      <td>...</td>\n",
       "      <td>...</td>\n",
       "      <td>...</td>\n",
       "      <td>...</td>\n",
       "      <td>...</td>\n",
       "      <td>...</td>\n",
       "      <td>...</td>\n",
       "      <td>...</td>\n",
       "      <td>...</td>\n",
       "      <td>...</td>\n",
       "    </tr>\n",
       "    <tr>\n",
       "      <th>972</th>\n",
       "      <td>Dell</td>\n",
       "      <td>Alienware 17</td>\n",
       "      <td>Gaming</td>\n",
       "      <td>17.3\"</td>\n",
       "      <td>Full HD 1920x1080</td>\n",
       "      <td>Intel Core i7 6700HQ 2.6GHz</td>\n",
       "      <td>32GB</td>\n",
       "      <td>256GB SSD +  1TB HDD</td>\n",
       "      <td>Nvidia GeForce GTX 1070</td>\n",
       "      <td>Windows</td>\n",
       "      <td>10</td>\n",
       "      <td>4.42kg</td>\n",
       "      <td>24897600.00</td>\n",
       "    </tr>\n",
       "    <tr>\n",
       "      <th>973</th>\n",
       "      <td>Toshiba</td>\n",
       "      <td>Tecra A40-C-1DF</td>\n",
       "      <td>Notebook</td>\n",
       "      <td>14.0\"</td>\n",
       "      <td>Full HD 1920x1080</td>\n",
       "      <td>Intel Core i5 6200U 2.3GHz</td>\n",
       "      <td>8GB</td>\n",
       "      <td>256GB SSD</td>\n",
       "      <td>Intel HD Graphics 520</td>\n",
       "      <td>Windows</td>\n",
       "      <td>10</td>\n",
       "      <td>1.95kg</td>\n",
       "      <td>10492560.00</td>\n",
       "    </tr>\n",
       "    <tr>\n",
       "      <th>974</th>\n",
       "      <td>Asus</td>\n",
       "      <td>Rog Strix</td>\n",
       "      <td>Gaming</td>\n",
       "      <td>17.3\"</td>\n",
       "      <td>Full HD 1920x1080</td>\n",
       "      <td>Intel Core i7 7700HQ 2.8GHz</td>\n",
       "      <td>16GB</td>\n",
       "      <td>256GB SSD +  1TB HDD</td>\n",
       "      <td>Nvidia GeForce GTX 1060</td>\n",
       "      <td>Windows</td>\n",
       "      <td>10</td>\n",
       "      <td>2.73kg</td>\n",
       "      <td>18227710.80</td>\n",
       "    </tr>\n",
       "    <tr>\n",
       "      <th>975</th>\n",
       "      <td>HP</td>\n",
       "      <td>Probook 450</td>\n",
       "      <td>Notebook</td>\n",
       "      <td>15.6\"</td>\n",
       "      <td>IPS Panel Full HD 1920x1080</td>\n",
       "      <td>Intel Core i5 7200U 2.70GHz</td>\n",
       "      <td>8GB</td>\n",
       "      <td>128GB SSD +  1TB HDD</td>\n",
       "      <td>Nvidia GeForce 930MX</td>\n",
       "      <td>Windows</td>\n",
       "      <td>10</td>\n",
       "      <td>2.04kg</td>\n",
       "      <td>8705268.00</td>\n",
       "    </tr>\n",
       "    <tr>\n",
       "      <th>976</th>\n",
       "      <td>Lenovo</td>\n",
       "      <td>ThinkPad T460</td>\n",
       "      <td>Notebook</td>\n",
       "      <td>14.0\"</td>\n",
       "      <td>1366x768</td>\n",
       "      <td>Intel Core i5 6200U 2.3GHz</td>\n",
       "      <td>4GB</td>\n",
       "      <td>508GB Hybrid</td>\n",
       "      <td>Intel HD Graphics 520</td>\n",
       "      <td>Windows</td>\n",
       "      <td>7</td>\n",
       "      <td>1.70kg</td>\n",
       "      <td>8909784.00</td>\n",
       "    </tr>\n",
       "  </tbody>\n",
       "</table>\n",
       "<p>977 rows × 13 columns</p>\n",
       "</div>"
      ],
      "text/plain": [
       "    Manufacturer       Model Name   Category Screen Size  \\\n",
       "0          Apple      MacBook Pro  Ultrabook       13.3\"   \n",
       "1          Apple      Macbook Air  Ultrabook       13.3\"   \n",
       "2             HP           250 G6   Notebook       15.6\"   \n",
       "3          Apple      MacBook Pro  Ultrabook       15.4\"   \n",
       "4          Apple      MacBook Pro  Ultrabook       13.3\"   \n",
       "..           ...              ...        ...         ...   \n",
       "972         Dell     Alienware 17     Gaming       17.3\"   \n",
       "973      Toshiba  Tecra A40-C-1DF   Notebook       14.0\"   \n",
       "974         Asus        Rog Strix     Gaming       17.3\"   \n",
       "975           HP      Probook 450   Notebook       15.6\"   \n",
       "976       Lenovo    ThinkPad T460   Notebook       14.0\"   \n",
       "\n",
       "                                 Screen                          CPU   RAM  \\\n",
       "0    IPS Panel Retina Display 2560x1600         Intel Core i5 2.3GHz   8GB   \n",
       "1                              1440x900         Intel Core i5 1.8GHz   8GB   \n",
       "2                     Full HD 1920x1080   Intel Core i5 7200U 2.5GHz   8GB   \n",
       "3    IPS Panel Retina Display 2880x1800         Intel Core i7 2.7GHz  16GB   \n",
       "4    IPS Panel Retina Display 2560x1600         Intel Core i5 3.1GHz   8GB   \n",
       "..                                  ...                          ...   ...   \n",
       "972                   Full HD 1920x1080  Intel Core i7 6700HQ 2.6GHz  32GB   \n",
       "973                   Full HD 1920x1080   Intel Core i5 6200U 2.3GHz   8GB   \n",
       "974                   Full HD 1920x1080  Intel Core i7 7700HQ 2.8GHz  16GB   \n",
       "975         IPS Panel Full HD 1920x1080  Intel Core i5 7200U 2.70GHz   8GB   \n",
       "976                            1366x768   Intel Core i5 6200U 2.3GHz   4GB   \n",
       "\n",
       "                  Storage                           GPU Operating System  \\\n",
       "0               128GB SSD  Intel Iris Plus Graphics 640            macOS   \n",
       "1     128GB Flash Storage        Intel HD Graphics 6000            macOS   \n",
       "2               256GB SSD         Intel HD Graphics 620            No OS   \n",
       "3               512GB SSD            AMD Radeon Pro 455            macOS   \n",
       "4               256GB SSD  Intel Iris Plus Graphics 650            macOS   \n",
       "..                    ...                           ...              ...   \n",
       "972  256GB SSD +  1TB HDD       Nvidia GeForce GTX 1070          Windows   \n",
       "973             256GB SSD         Intel HD Graphics 520          Windows   \n",
       "974  256GB SSD +  1TB HDD       Nvidia GeForce GTX 1060          Windows   \n",
       "975  128GB SSD +  1TB HDD          Nvidia GeForce 930MX          Windows   \n",
       "976          508GB Hybrid         Intel HD Graphics 520          Windows   \n",
       "\n",
       "    Operating System Version  Weight        Price  \n",
       "0                        NaN  1.37kg  11912523.48  \n",
       "1                        NaN  1.34kg   7993374.48  \n",
       "2                        NaN  1.86kg   5112900.00  \n",
       "3                        NaN  1.83kg  22563005.40  \n",
       "4                        NaN  1.37kg  16037611.20  \n",
       "..                       ...     ...          ...  \n",
       "972                       10  4.42kg  24897600.00  \n",
       "973                       10  1.95kg  10492560.00  \n",
       "974                       10  2.73kg  18227710.80  \n",
       "975                       10  2.04kg   8705268.00  \n",
       "976                        7  1.70kg   8909784.00  \n",
       "\n",
       "[977 rows x 13 columns]"
      ]
     },
     "execution_count": 343,
     "metadata": {},
     "output_type": "execute_result"
    }
   ],
   "source": [
    "#Printea sample de DataFrame\n",
    "df"
   ]
  },
  {
   "cell_type": "code",
   "execution_count": 344,
   "metadata": {},
   "outputs": [
    {
     "name": "stdout",
     "output_type": "stream",
     "text": [
      "<class 'pandas.core.frame.DataFrame'>\n",
      "RangeIndex: 977 entries, 0 to 976\n",
      "Data columns (total 13 columns):\n",
      " #   Column                    Non-Null Count  Dtype  \n",
      "---  ------                    --------------  -----  \n",
      " 0   Manufacturer              977 non-null    object \n",
      " 1   Model Name                977 non-null    object \n",
      " 2   Category                  977 non-null    object \n",
      " 3   Screen Size               977 non-null    object \n",
      " 4   Screen                    977 non-null    object \n",
      " 5   CPU                       977 non-null    object \n",
      " 6   RAM                       977 non-null    object \n",
      " 7    Storage                  977 non-null    object \n",
      " 8   GPU                       977 non-null    object \n",
      " 9   Operating System          977 non-null    object \n",
      " 10  Operating System Version  841 non-null    object \n",
      " 11  Weight                    977 non-null    object \n",
      " 12  Price                     977 non-null    float64\n",
      "dtypes: float64(1), object(12)\n",
      "memory usage: 780.0 KB\n"
     ]
    }
   ],
   "source": [
    "df.info(memory_usage='deep')"
   ]
  },
  {
   "cell_type": "code",
   "execution_count": 345,
   "metadata": {},
   "outputs": [
    {
     "data": {
      "image/png": "[encoded data removed]",
      "text/plain": [
       "<Figure size 1500x1000 with 2 Axes>"
      ]
     },
     "metadata": {},
     "output_type": "display_data"
    }
   ],
   "source": [
    "#Analiza colinealidad o si es posible analizar debido al gran número de columnas categóricas\n",
    "\n",
    "plt.figure(figsize=(15, 10))\n",
    "\n",
    "sns.set(style='white')\n",
    "\n",
    "mask=np.triu(np.ones_like(df.corr(), dtype=bool))\n",
    "\n",
    "cmap=sns.diverging_palette(0, 10, as_cmap=True)\n",
    "\n",
    "\n",
    "sns.heatmap(df.corr(),\n",
    "           mask=mask,\n",
    "          cmap='rainbow',\n",
    "          center=0,\n",
    "          square=True,\n",
    "          annot=True,\n",
    "          linewidths=0.5,\n",
    "          cbar_kws={'shrink': 0.5});"
   ]
  },
  {
   "cell_type": "code",
   "execution_count": 346,
   "metadata": {},
   "outputs": [
    {
     "data": {
      "text/plain": [
       "373    2.60\n",
       "372    3.25\n",
       "203    3.20\n",
       "940    2.75\n",
       "508    1.34\n",
       "314    1.10\n",
       "552    4.42\n",
       "327    1.70\n",
       "975    2.04\n",
       "713    1.50\n",
       "102    2.20\n",
       "408    2.20\n",
       "200    2.65\n",
       "86     1.83\n",
       "451    2.17\n",
       "585    4.50\n",
       "899    1.90\n",
       "185    2.77\n",
       "781    4.30\n",
       "208    1.20\n",
       "Name: Weight, dtype: float64"
      ]
     },
     "execution_count": 346,
     "metadata": {},
     "output_type": "execute_result"
    }
   ],
   "source": [
    "#Quita KG\n",
    "df['Weight'] = df['Weight'].str.replace('kg', '')\n",
    "\n",
    "#Convierte la columna a ordinal\n",
    "df['Weight'] = pd.to_numeric(df['Weight'])\n",
    "\n",
    "df['Weight'].sample(20)\n"
   ]
  },
  {
   "cell_type": "code",
   "execution_count": 347,
   "metadata": {},
   "outputs": [
    {
     "name": "stdout",
     "output_type": "stream",
     "text": [
      "<class 'pandas.core.frame.DataFrame'>\n",
      "RangeIndex: 977 entries, 0 to 976\n",
      "Data columns (total 13 columns):\n",
      " #   Column                    Non-Null Count  Dtype  \n",
      "---  ------                    --------------  -----  \n",
      " 0   Manufacturer              977 non-null    object \n",
      " 1   Model Name                977 non-null    object \n",
      " 2   Category                  977 non-null    object \n",
      " 3   Screen Size               977 non-null    object \n",
      " 4   Screen                    977 non-null    object \n",
      " 5   CPU                       977 non-null    object \n",
      " 6   RAM                       977 non-null    object \n",
      " 7    Storage                  977 non-null    object \n",
      " 8   GPU                       977 non-null    object \n",
      " 9   Operating System          977 non-null    object \n",
      " 10  Operating System Version  841 non-null    object \n",
      " 11  Weight                    977 non-null    float64\n",
      " 12  Price                     977 non-null    float64\n",
      "dtypes: float64(2), object(11)\n",
      "memory usage: 728.1 KB\n"
     ]
    }
   ],
   "source": [
    "df.info(memory_usage='deep')"
   ]
  },
  {
   "cell_type": "code",
   "execution_count": 348,
   "metadata": {},
   "outputs": [],
   "source": [
    "#Renombrar columna\n",
    "df.rename(columns={' Storage': 'Storage'}, inplace=True)"
   ]
  },
  {
   "cell_type": "code",
   "execution_count": 349,
   "metadata": {},
   "outputs": [
    {
     "data": {
      "text/plain": [
       "0      128\n",
       "1      128\n",
       "2      256\n",
       "3      512\n",
       "4      256\n",
       "      ... \n",
       "972    256\n",
       "973    256\n",
       "974    256\n",
       "975    128\n",
       "976    508\n",
       "Name: Storage, Length: 977, dtype: int32"
      ]
     },
     "execution_count": 349,
     "metadata": {},
     "output_type": "execute_result"
    }
   ],
   "source": [
    "# Extrace valores numericos. Valor bajo = SSD, medio = Hybrid, alto = HDD.\n",
    "df['Storage'] = df['Storage'].str.extract('(\\d+)').astype(int)\n",
    "\n",
    "df['Storage']"
   ]
  },
  {
   "cell_type": "code",
   "execution_count": 350,
   "metadata": {},
   "outputs": [
    {
     "name": "stdout",
     "output_type": "stream",
     "text": [
      "<class 'pandas.core.frame.DataFrame'>\n",
      "RangeIndex: 977 entries, 0 to 976\n",
      "Data columns (total 13 columns):\n",
      " #   Column                    Non-Null Count  Dtype  \n",
      "---  ------                    --------------  -----  \n",
      " 0   Manufacturer              977 non-null    object \n",
      " 1   Model Name                977 non-null    object \n",
      " 2   Category                  977 non-null    object \n",
      " 3   Screen Size               977 non-null    object \n",
      " 4   Screen                    977 non-null    object \n",
      " 5   CPU                       977 non-null    object \n",
      " 6   RAM                       977 non-null    object \n",
      " 7   Storage                   977 non-null    int32  \n",
      " 8   GPU                       977 non-null    object \n",
      " 9   Operating System          977 non-null    object \n",
      " 10  Operating System Version  841 non-null    object \n",
      " 11  Weight                    977 non-null    float64\n",
      " 12  Price                     977 non-null    float64\n",
      "dtypes: float64(2), int32(1), object(10)\n",
      "memory usage: 667.1 KB\n"
     ]
    }
   ],
   "source": [
    "df.info(memory_usage='deep')"
   ]
  },
  {
   "cell_type": "code",
   "execution_count": 351,
   "metadata": {},
   "outputs": [
    {
     "data": {
      "text/plain": [
       "0       8\n",
       "1       8\n",
       "2       8\n",
       "3      16\n",
       "4       8\n",
       "       ..\n",
       "972    32\n",
       "973     8\n",
       "974    16\n",
       "975     8\n",
       "976     4\n",
       "Name: RAM, Length: 977, dtype: int32"
      ]
     },
     "execution_count": 351,
     "metadata": {},
     "output_type": "execute_result"
    }
   ],
   "source": [
    "# Extrace valores numericos de RAM. Capacidad en GB.\n",
    "df['RAM'] = df['RAM'].str.extract('(\\d+)').astype(int)\n",
    "\n",
    "df['RAM']"
   ]
  },
  {
   "cell_type": "code",
   "execution_count": 352,
   "metadata": {},
   "outputs": [
    {
     "name": "stdout",
     "output_type": "stream",
     "text": [
      "<class 'pandas.core.frame.DataFrame'>\n",
      "RangeIndex: 977 entries, 0 to 976\n",
      "Data columns (total 13 columns):\n",
      " #   Column                    Non-Null Count  Dtype  \n",
      "---  ------                    --------------  -----  \n",
      " 0   Manufacturer              977 non-null    object \n",
      " 1   Model Name                977 non-null    object \n",
      " 2   Category                  977 non-null    object \n",
      " 3   Screen Size               977 non-null    object \n",
      " 4   Screen                    977 non-null    object \n",
      " 5   CPU                       977 non-null    object \n",
      " 6   RAM                       977 non-null    int32  \n",
      " 7   Storage                   977 non-null    int32  \n",
      " 8   GPU                       977 non-null    object \n",
      " 9   Operating System          977 non-null    object \n",
      " 10  Operating System Version  841 non-null    object \n",
      " 11  Weight                    977 non-null    float64\n",
      " 12  Price                     977 non-null    float64\n",
      "dtypes: float64(2), int32(2), object(9)\n",
      "memory usage: 613.5 KB\n"
     ]
    }
   ],
   "source": [
    "df.info(memory_usage='deep')"
   ]
  },
  {
   "cell_type": "code",
   "execution_count": 353,
   "metadata": {},
   "outputs": [
    {
     "data": {
      "text/plain": [
       "Intel HD Graphics 620             225\n",
       "Intel HD Graphics 520              98\n",
       "Intel UHD Graphics 620             66\n",
       "Nvidia GeForce GTX 1050            57\n",
       "AMD Radeon 530                     37\n",
       "                                 ... \n",
       "Nvidia GeForce GTX 960<U+039C>      1\n",
       "Intel Graphics 620                  1\n",
       "Nvidia GeForce GTX 960              1\n",
       "AMD Radeon R5 520                   1\n",
       "AMD Radeon R9 M385                  1\n",
       "Name: GPU, Length: 98, dtype: int64"
      ]
     },
     "execution_count": 353,
     "metadata": {},
     "output_type": "execute_result"
    }
   ],
   "source": [
    "df.GPU.value_counts()"
   ]
  },
  {
   "cell_type": "code",
   "execution_count": 354,
   "metadata": {},
   "outputs": [
    {
     "data": {
      "text/plain": [
       "0       Intel\n",
       "1       Intel\n",
       "2       Intel\n",
       "3         AMD\n",
       "4       Intel\n",
       "        ...  \n",
       "972    Nvidia\n",
       "973     Intel\n",
       "974    Nvidia\n",
       "975    Nvidia\n",
       "976     Intel\n",
       "Name: GPU, Length: 977, dtype: object"
      ]
     },
     "execution_count": 354,
     "metadata": {},
     "output_type": "execute_result"
    }
   ],
   "source": [
    "df['GPU'] = df['GPU'].str.split().str[0]\n",
    "\n",
    "df['GPU']"
   ]
  },
  {
   "cell_type": "code",
   "execution_count": 355,
   "metadata": {},
   "outputs": [
    {
     "data": {
      "text/plain": [
       "Intel Core i5 7200U 2.5GHz     151\n",
       "Intel Core i7 7700HQ 2.8GHz    123\n",
       "Intel Core i7 7500U 2.7GHz     103\n",
       "Intel Core i7 8550U 1.8GHz      71\n",
       "Intel Core i5 8250U 1.6GHz      71\n",
       "                              ... \n",
       "Intel Core i7 2.9GHz             1\n",
       "AMD E-Series 7110 1.8GHz         1\n",
       "Intel Core i5 2.9GHz             1\n",
       "Intel Core M m3 1.2GHz           1\n",
       "Intel Core i5 7200U 2.70GHz      1\n",
       "Name: CPU, Length: 106, dtype: int64"
      ]
     },
     "execution_count": 355,
     "metadata": {},
     "output_type": "execute_result"
    }
   ],
   "source": [
    "df.CPU.value_counts()"
   ]
  },
  {
   "cell_type": "code",
   "execution_count": 356,
   "metadata": {},
   "outputs": [
    {
     "data": {
      "text/plain": [
       "array(['Intel Core i5', 'Intel Core i7', 'AMD A9-Series 9420',\n",
       "       'Intel Core i3', 'Intel Core M', 'Intel Atom x5-Z8350',\n",
       "       'AMD E-Series E2-9000e', 'Intel Atom x5-Z8300',\n",
       "       'AMD E-Series E2-6110', 'AMD A6-Series 9220', 'Intel Celeron Dual',\n",
       "       'AMD Ryzen 1700', 'Intel Pentium Quad', 'Intel Atom x5-Z8550',\n",
       "       'AMD FX 9830P', 'AMD E-Series 6110', 'Intel Xeon E3-1505M',\n",
       "       'AMD E-Series 9000e', 'AMD A10-Series A10-9620P',\n",
       "       'AMD A6-Series A6-9220', 'AMD A10-Series 9600P',\n",
       "       'AMD A8-Series 7410', 'AMD A12-Series 9720P', 'Intel Celeron Quad',\n",
       "       'AMD Ryzen 1600', 'AMD A10-Series 9620P', 'AMD E-Series 7110',\n",
       "       'AMD A9-Series A9-9420', 'Intel Xeon E3-1535M',\n",
       "       'AMD E-Series E2-9000', 'AMD A6-Series 7310', 'Intel Atom Z8350',\n",
       "       'Intel Pentium Dual', 'AMD A12-Series 9700P', 'AMD A4-Series 7210',\n",
       "       'AMD FX 8800P'], dtype=object)"
      ]
     },
     "execution_count": 356,
     "metadata": {},
     "output_type": "execute_result"
    }
   ],
   "source": [
    "df['CPU'] = df['CPU'].str.split(' ', 3).str[:3].str.join(' ')\n",
    "\n",
    "df['CPU'].unique()"
   ]
  },
  {
   "cell_type": "code",
   "execution_count": 357,
   "metadata": {},
   "outputs": [
    {
     "data": {
      "text/plain": [
       "36"
      ]
     },
     "execution_count": 357,
     "metadata": {},
     "output_type": "execute_result"
    }
   ],
   "source": [
    "procesador = set(df['CPU'])\n",
    "len(procesador)"
   ]
  },
  {
   "cell_type": "code",
   "execution_count": 358,
   "metadata": {},
   "outputs": [
    {
     "name": "stdout",
     "output_type": "stream",
     "text": [
      "<class 'pandas.core.frame.DataFrame'>\n",
      "RangeIndex: 977 entries, 0 to 976\n",
      "Data columns (total 13 columns):\n",
      " #   Column                    Non-Null Count  Dtype  \n",
      "---  ------                    --------------  -----  \n",
      " 0   Manufacturer              977 non-null    object \n",
      " 1   Model Name                977 non-null    object \n",
      " 2   Category                  977 non-null    object \n",
      " 3   Screen Size               977 non-null    float64\n",
      " 4   Screen                    977 non-null    object \n",
      " 5   CPU                       977 non-null    object \n",
      " 6   RAM                       977 non-null    int32  \n",
      " 7   Storage                   977 non-null    int32  \n",
      " 8   GPU                       977 non-null    object \n",
      " 9   Operating System          977 non-null    object \n",
      " 10  Operating System Version  841 non-null    object \n",
      " 11  Weight                    977 non-null    float64\n",
      " 12  Price                     977 non-null    float64\n",
      "dtypes: float64(3), int32(2), object(8)\n",
      "memory usage: 534.7 KB\n"
     ]
    }
   ],
   "source": [
    "#Dejar solo valor numérico en Screen Size\n",
    "df['Screen Size'] = df['Screen Size'].str.replace('\"', '').astype(float)\n",
    "df.info(memory_usage='deep')"
   ]
  },
  {
   "cell_type": "code",
   "execution_count": 359,
   "metadata": {},
   "outputs": [
    {
     "data": {
      "text/plain": [
       "15.6    494\n",
       "14.0    146\n",
       "17.3    131\n",
       "13.3    123\n",
       "11.6     27\n",
       "12.5     23\n",
       "13.5      6\n",
       "13.9      6\n",
       "15.4      4\n",
       "12.3      4\n",
       "12.0      3\n",
       "15.0      3\n",
       "13.0      2\n",
       "10.1      1\n",
       "18.4      1\n",
       "17.0      1\n",
       "14.1      1\n",
       "11.3      1\n",
       "Name: Screen Size, dtype: int64"
      ]
     },
     "execution_count": 359,
     "metadata": {},
     "output_type": "execute_result"
    }
   ],
   "source": [
    "df['Screen Size'].value_counts()"
   ]
  },
  {
   "cell_type": "code",
   "execution_count": 360,
   "metadata": {},
   "outputs": [
    {
     "data": {
      "text/plain": [
       "1920x1080    655\n",
       "1366x768     206\n",
       "3840x2160     36\n",
       "1600x900      19\n",
       "3200x1800     15\n",
       "2560x1440     15\n",
       "2560x1600      6\n",
       "2256x1504      6\n",
       "1440x900       4\n",
       "2880x1800      4\n",
       "2304x1440      3\n",
       "2400x1600      3\n",
       "1920x1200      2\n",
       "2160x1440      2\n",
       "2736x1824      1\n",
       "Name: Screen, dtype: int64"
      ]
     },
     "execution_count": 360,
     "metadata": {},
     "output_type": "execute_result"
    }
   ],
   "source": [
    "df['Screen'] = df['Screen'].str.rsplit(' ', 1).str[-1]\n",
    "df.Screen.value_counts()\n"
   ]
  },
  {
   "cell_type": "code",
   "execution_count": 361,
   "metadata": {},
   "outputs": [
    {
     "data": {
      "text/plain": [
       "2073600    655\n",
       "1049088    206\n",
       "8294400     36\n",
       "1440000     19\n",
       "5760000     15\n",
       "3686400     15\n",
       "4096000      6\n",
       "3393024      6\n",
       "1296000      4\n",
       "5184000      4\n",
       "3317760      3\n",
       "3840000      3\n",
       "2304000      2\n",
       "3110400      2\n",
       "4990464      1\n",
       "Name: Screen, dtype: int64"
      ]
     },
     "execution_count": 361,
     "metadata": {},
     "output_type": "execute_result"
    }
   ],
   "source": [
    "#Separar valores para multiplicar después.\n",
    "df[['Width', 'Height']] = df['Screen'].str.extract(r'(\\d+)x(\\d+)', expand=True)\n",
    "#Pasar a ordinal\n",
    "df['Width'] = pd.to_numeric(df['Width'])\n",
    "df['Height'] = pd.to_numeric(df['Height'])\n",
    "#Pasar Screen a ordinal con total de pixeles\n",
    "df['Screen'] = df['Width'] * df['Height']\n",
    "df.drop(['Width', 'Height'], axis=1, inplace=True)\n",
    "df.Screen.value_counts()\n"
   ]
  },
  {
   "cell_type": "code",
   "execution_count": 362,
   "metadata": {},
   "outputs": [
    {
     "data": {
      "text/html": [
       "<div>\n",
       "<style scoped>\n",
       "    .dataframe tbody tr th:only-of-type {\n",
       "        vertical-align: middle;\n",
       "    }\n",
       "\n",
       "    .dataframe tbody tr th {\n",
       "        vertical-align: top;\n",
       "    }\n",
       "\n",
       "    .dataframe thead th {\n",
       "        text-align: right;\n",
       "    }\n",
       "</style>\n",
       "<table border=\"1\" class=\"dataframe\">\n",
       "  <thead>\n",
       "    <tr style=\"text-align: right;\">\n",
       "      <th></th>\n",
       "      <th>Manufacturer</th>\n",
       "      <th>Model Name</th>\n",
       "      <th>Category</th>\n",
       "      <th>Screen Size</th>\n",
       "      <th>Screen</th>\n",
       "      <th>CPU</th>\n",
       "      <th>RAM</th>\n",
       "      <th>Storage</th>\n",
       "      <th>GPU</th>\n",
       "      <th>Operating System</th>\n",
       "      <th>Operating System Version</th>\n",
       "      <th>Weight</th>\n",
       "      <th>Price</th>\n",
       "    </tr>\n",
       "  </thead>\n",
       "  <tbody>\n",
       "    <tr>\n",
       "      <th>0</th>\n",
       "      <td>Apple</td>\n",
       "      <td>MacBook Pro</td>\n",
       "      <td>Ultrabook</td>\n",
       "      <td>13.3</td>\n",
       "      <td>4096000</td>\n",
       "      <td>Intel Core i5</td>\n",
       "      <td>8</td>\n",
       "      <td>128</td>\n",
       "      <td>Intel</td>\n",
       "      <td>macOS</td>\n",
       "      <td>NaN</td>\n",
       "      <td>1.37</td>\n",
       "      <td>11912523.48</td>\n",
       "    </tr>\n",
       "    <tr>\n",
       "      <th>1</th>\n",
       "      <td>Apple</td>\n",
       "      <td>Macbook Air</td>\n",
       "      <td>Ultrabook</td>\n",
       "      <td>13.3</td>\n",
       "      <td>1296000</td>\n",
       "      <td>Intel Core i5</td>\n",
       "      <td>8</td>\n",
       "      <td>128</td>\n",
       "      <td>Intel</td>\n",
       "      <td>macOS</td>\n",
       "      <td>NaN</td>\n",
       "      <td>1.34</td>\n",
       "      <td>7993374.48</td>\n",
       "    </tr>\n",
       "    <tr>\n",
       "      <th>2</th>\n",
       "      <td>HP</td>\n",
       "      <td>250 G6</td>\n",
       "      <td>Notebook</td>\n",
       "      <td>15.6</td>\n",
       "      <td>2073600</td>\n",
       "      <td>Intel Core i5</td>\n",
       "      <td>8</td>\n",
       "      <td>256</td>\n",
       "      <td>Intel</td>\n",
       "      <td>No OS</td>\n",
       "      <td>NaN</td>\n",
       "      <td>1.86</td>\n",
       "      <td>5112900.00</td>\n",
       "    </tr>\n",
       "    <tr>\n",
       "      <th>3</th>\n",
       "      <td>Apple</td>\n",
       "      <td>MacBook Pro</td>\n",
       "      <td>Ultrabook</td>\n",
       "      <td>15.4</td>\n",
       "      <td>5184000</td>\n",
       "      <td>Intel Core i7</td>\n",
       "      <td>16</td>\n",
       "      <td>512</td>\n",
       "      <td>AMD</td>\n",
       "      <td>macOS</td>\n",
       "      <td>NaN</td>\n",
       "      <td>1.83</td>\n",
       "      <td>22563005.40</td>\n",
       "    </tr>\n",
       "    <tr>\n",
       "      <th>4</th>\n",
       "      <td>Apple</td>\n",
       "      <td>MacBook Pro</td>\n",
       "      <td>Ultrabook</td>\n",
       "      <td>13.3</td>\n",
       "      <td>4096000</td>\n",
       "      <td>Intel Core i5</td>\n",
       "      <td>8</td>\n",
       "      <td>256</td>\n",
       "      <td>Intel</td>\n",
       "      <td>macOS</td>\n",
       "      <td>NaN</td>\n",
       "      <td>1.37</td>\n",
       "      <td>16037611.20</td>\n",
       "    </tr>\n",
       "    <tr>\n",
       "      <th>...</th>\n",
       "      <td>...</td>\n",
       "      <td>...</td>\n",
       "      <td>...</td>\n",
       "      <td>...</td>\n",
       "      <td>...</td>\n",
       "      <td>...</td>\n",
       "      <td>...</td>\n",
       "      <td>...</td>\n",
       "      <td>...</td>\n",
       "      <td>...</td>\n",
       "      <td>...</td>\n",
       "      <td>...</td>\n",
       "      <td>...</td>\n",
       "    </tr>\n",
       "    <tr>\n",
       "      <th>972</th>\n",
       "      <td>Dell</td>\n",
       "      <td>Alienware 17</td>\n",
       "      <td>Gaming</td>\n",
       "      <td>17.3</td>\n",
       "      <td>2073600</td>\n",
       "      <td>Intel Core i7</td>\n",
       "      <td>32</td>\n",
       "      <td>256</td>\n",
       "      <td>Nvidia</td>\n",
       "      <td>Windows</td>\n",
       "      <td>10</td>\n",
       "      <td>4.42</td>\n",
       "      <td>24897600.00</td>\n",
       "    </tr>\n",
       "    <tr>\n",
       "      <th>973</th>\n",
       "      <td>Toshiba</td>\n",
       "      <td>Tecra A40-C-1DF</td>\n",
       "      <td>Notebook</td>\n",
       "      <td>14.0</td>\n",
       "      <td>2073600</td>\n",
       "      <td>Intel Core i5</td>\n",
       "      <td>8</td>\n",
       "      <td>256</td>\n",
       "      <td>Intel</td>\n",
       "      <td>Windows</td>\n",
       "      <td>10</td>\n",
       "      <td>1.95</td>\n",
       "      <td>10492560.00</td>\n",
       "    </tr>\n",
       "    <tr>\n",
       "      <th>974</th>\n",
       "      <td>Asus</td>\n",
       "      <td>Rog Strix</td>\n",
       "      <td>Gaming</td>\n",
       "      <td>17.3</td>\n",
       "      <td>2073600</td>\n",
       "      <td>Intel Core i7</td>\n",
       "      <td>16</td>\n",
       "      <td>256</td>\n",
       "      <td>Nvidia</td>\n",
       "      <td>Windows</td>\n",
       "      <td>10</td>\n",
       "      <td>2.73</td>\n",
       "      <td>18227710.80</td>\n",
       "    </tr>\n",
       "    <tr>\n",
       "      <th>975</th>\n",
       "      <td>HP</td>\n",
       "      <td>Probook 450</td>\n",
       "      <td>Notebook</td>\n",
       "      <td>15.6</td>\n",
       "      <td>2073600</td>\n",
       "      <td>Intel Core i5</td>\n",
       "      <td>8</td>\n",
       "      <td>128</td>\n",
       "      <td>Nvidia</td>\n",
       "      <td>Windows</td>\n",
       "      <td>10</td>\n",
       "      <td>2.04</td>\n",
       "      <td>8705268.00</td>\n",
       "    </tr>\n",
       "    <tr>\n",
       "      <th>976</th>\n",
       "      <td>Lenovo</td>\n",
       "      <td>ThinkPad T460</td>\n",
       "      <td>Notebook</td>\n",
       "      <td>14.0</td>\n",
       "      <td>1049088</td>\n",
       "      <td>Intel Core i5</td>\n",
       "      <td>4</td>\n",
       "      <td>508</td>\n",
       "      <td>Intel</td>\n",
       "      <td>Windows</td>\n",
       "      <td>7</td>\n",
       "      <td>1.70</td>\n",
       "      <td>8909784.00</td>\n",
       "    </tr>\n",
       "  </tbody>\n",
       "</table>\n",
       "<p>977 rows × 13 columns</p>\n",
       "</div>"
      ],
      "text/plain": [
       "    Manufacturer       Model Name   Category  Screen Size   Screen  \\\n",
       "0          Apple      MacBook Pro  Ultrabook         13.3  4096000   \n",
       "1          Apple      Macbook Air  Ultrabook         13.3  1296000   \n",
       "2             HP           250 G6   Notebook         15.6  2073600   \n",
       "3          Apple      MacBook Pro  Ultrabook         15.4  5184000   \n",
       "4          Apple      MacBook Pro  Ultrabook         13.3  4096000   \n",
       "..           ...              ...        ...          ...      ...   \n",
       "972         Dell     Alienware 17     Gaming         17.3  2073600   \n",
       "973      Toshiba  Tecra A40-C-1DF   Notebook         14.0  2073600   \n",
       "974         Asus        Rog Strix     Gaming         17.3  2073600   \n",
       "975           HP      Probook 450   Notebook         15.6  2073600   \n",
       "976       Lenovo    ThinkPad T460   Notebook         14.0  1049088   \n",
       "\n",
       "               CPU  RAM  Storage     GPU Operating System  \\\n",
       "0    Intel Core i5    8      128   Intel            macOS   \n",
       "1    Intel Core i5    8      128   Intel            macOS   \n",
       "2    Intel Core i5    8      256   Intel            No OS   \n",
       "3    Intel Core i7   16      512     AMD            macOS   \n",
       "4    Intel Core i5    8      256   Intel            macOS   \n",
       "..             ...  ...      ...     ...              ...   \n",
       "972  Intel Core i7   32      256  Nvidia          Windows   \n",
       "973  Intel Core i5    8      256   Intel          Windows   \n",
       "974  Intel Core i7   16      256  Nvidia          Windows   \n",
       "975  Intel Core i5    8      128  Nvidia          Windows   \n",
       "976  Intel Core i5    4      508   Intel          Windows   \n",
       "\n",
       "    Operating System Version  Weight        Price  \n",
       "0                        NaN    1.37  11912523.48  \n",
       "1                        NaN    1.34   7993374.48  \n",
       "2                        NaN    1.86   5112900.00  \n",
       "3                        NaN    1.83  22563005.40  \n",
       "4                        NaN    1.37  16037611.20  \n",
       "..                       ...     ...          ...  \n",
       "972                       10    4.42  24897600.00  \n",
       "973                       10    1.95  10492560.00  \n",
       "974                       10    2.73  18227710.80  \n",
       "975                       10    2.04   8705268.00  \n",
       "976                        7    1.70   8909784.00  \n",
       "\n",
       "[977 rows x 13 columns]"
      ]
     },
     "execution_count": 362,
     "metadata": {},
     "output_type": "execute_result"
    }
   ],
   "source": [
    "df"
   ]
  },
  {
   "cell_type": "code",
   "execution_count": null,
   "metadata": {},
   "outputs": [],
   "source": []
  },
  {
   "cell_type": "code",
   "execution_count": null,
   "metadata": {},
   "outputs": [],
   "source": []
  },
  {
   "cell_type": "code",
   "execution_count": null,
   "metadata": {},
   "outputs": [],
   "source": []
  },
  {
   "cell_type": "code",
   "execution_count": 363,
   "metadata": {},
   "outputs": [
    {
     "name": "stdout",
     "output_type": "stream",
     "text": [
      "<class 'pandas.core.frame.DataFrame'>\n",
      "RangeIndex: 977 entries, 0 to 976\n",
      "Data columns (total 13 columns):\n",
      " #   Column                    Non-Null Count  Dtype  \n",
      "---  ------                    --------------  -----  \n",
      " 0   Manufacturer              977 non-null    object \n",
      " 1   Model Name                977 non-null    object \n",
      " 2   Category                  977 non-null    object \n",
      " 3   Screen Size               977 non-null    float64\n",
      " 4   Screen                    977 non-null    int64  \n",
      " 5   CPU                       977 non-null    object \n",
      " 6   RAM                       977 non-null    int32  \n",
      " 7   Storage                   977 non-null    int32  \n",
      " 8   GPU                       977 non-null    int8   \n",
      " 9   Operating System          977 non-null    object \n",
      " 10  Operating System Version  841 non-null    object \n",
      " 11  Weight                    977 non-null    float64\n",
      " 12  Price                     977 non-null    float64\n",
      "dtypes: float64(3), int32(2), int64(1), int8(1), object(6)\n",
      "memory usage: 410.8 KB\n"
     ]
    }
   ],
   "source": [
    "#Creo Labels en nuevo dataframe para testear después colinealidad\n",
    "df_labels=df\n",
    "df_labels['GPU'] = df_labels['GPU'].astype('category').cat.codes\n",
    "df_labels.info(memory_usage='deep')"
   ]
  },
  {
   "cell_type": "code",
   "execution_count": 364,
   "metadata": {},
   "outputs": [
    {
     "name": "stdout",
     "output_type": "stream",
     "text": [
      "<class 'pandas.core.frame.DataFrame'>\n",
      "RangeIndex: 977 entries, 0 to 976\n",
      "Data columns (total 13 columns):\n",
      " #   Column                    Non-Null Count  Dtype  \n",
      "---  ------                    --------------  -----  \n",
      " 0   Manufacturer              977 non-null    object \n",
      " 1   Model Name                977 non-null    object \n",
      " 2   Category                  977 non-null    object \n",
      " 3   Screen Size               977 non-null    float64\n",
      " 4   Screen                    977 non-null    int64  \n",
      " 5   CPU                       977 non-null    int8   \n",
      " 6   RAM                       977 non-null    int32  \n",
      " 7   Storage                   977 non-null    int32  \n",
      " 8   GPU                       977 non-null    int8   \n",
      " 9   Operating System          977 non-null    object \n",
      " 10  Operating System Version  841 non-null    object \n",
      " 11  Weight                    977 non-null    float64\n",
      " 12  Price                     977 non-null    float64\n",
      "dtypes: float64(3), int32(2), int64(1), int8(2), object(5)\n",
      "memory usage: 344.3 KB\n"
     ]
    }
   ],
   "source": [
    "#Creo Labels en nuevo dataframe para testear después colinealidad\n",
    "df_labels=df\n",
    "df_labels['CPU'] = df_labels['CPU'].astype('category').cat.codes\n",
    "df_labels.info(memory_usage='deep')"
   ]
  }
 ],
 "metadata": {
  "kernelspec": {
   "display_name": "base",
   "language": "python",
   "name": "python3"
  },
  "language_info": {
   "codemirror_mode": {
    "name": "ipython",
    "version": 3
   },
   "file_extension": ".py",
   "mimetype": "text/x-python",
   "name": "python",
   "nbconvert_exporter": "python",
   "pygments_lexer": "ipython3",
   "version": "3.10.9"
  },
  "orig_nbformat": 4
 },
 "nbformat": 4,
 "nbformat_minor": 2
}
